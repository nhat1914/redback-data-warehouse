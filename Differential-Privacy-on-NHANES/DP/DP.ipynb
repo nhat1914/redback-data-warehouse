{
 "cells": [
  {
   "cell_type": "markdown",
   "id": "63420dfa",
   "metadata": {},
   "source": [
    "# Differential Privacy "
   ]
  },
  {
   "cell_type": "code",
   "execution_count": 24,
   "id": "aa5331dc",
   "metadata": {},
   "outputs": [
    {
     "name": "stdout",
     "output_type": "stream",
     "text": [
      "<class 'pandas.core.frame.DataFrame'>\n",
      "RangeIndex: 11933 entries, 0 to 11932\n",
      "Data columns (total 27 columns):\n",
      " #   Column    Non-Null Count  Dtype  \n",
      "---  ------    --------------  -----  \n",
      " 0   SEQN      11933 non-null  float64\n",
      " 1   SDDSRVYR  11933 non-null  float64\n",
      " 2   RIDSTATR  11933 non-null  float64\n",
      " 3   RIAGENDR  11933 non-null  float64\n",
      " 4   RIDAGEYR  11933 non-null  float64\n",
      " 5   RIDAGEMN  377 non-null    float64\n",
      " 6   RIDRETH1  11933 non-null  float64\n",
      " 7   RIDRETH3  11933 non-null  float64\n",
      " 8   RIDEXMON  8860 non-null   float64\n",
      " 9   RIDEXAGM  2787 non-null   float64\n",
      " 10  DMQMILIZ  8301 non-null   float64\n",
      " 11  DMDBORN4  11914 non-null  float64\n",
      " 12  DMDYRUSR  1875 non-null   float64\n",
      " 13  DMDEDUC2  7794 non-null   float64\n",
      " 14  DMDMARTZ  7792 non-null   float64\n",
      " 15  RIDEXPRG  1503 non-null   float64\n",
      " 16  DMDHHSIZ  11933 non-null  float64\n",
      " 17  DMDHRGND  4115 non-null   float64\n",
      " 18  DMDHRAGZ  4124 non-null   float64\n",
      " 19  DMDHREDZ  3746 non-null   float64\n",
      " 20  DMDHRMAZ  4020 non-null   float64\n",
      " 21  DMDHSEDZ  2127 non-null   float64\n",
      " 22  WTINT2YR  11933 non-null  float64\n",
      " 23  WTMEC2YR  11933 non-null  float64\n",
      " 24  SDMVSTRA  11933 non-null  float64\n",
      " 25  SDMVPSU   11933 non-null  float64\n",
      " 26  INDFMPIR  9892 non-null   float64\n",
      "dtypes: float64(27)\n",
      "memory usage: 2.5 MB\n"
     ]
    },
    {
     "data": {
      "text/plain": [
       "(None,\n",
       "        SEQN  SDDSRVYR  RIDSTATR  RIAGENDR  RIDAGEYR  RIDAGEMN  RIDRETH1  \\\n",
       " 0  130378.0      12.0       2.0       1.0      43.0       NaN       5.0   \n",
       " 1  130379.0      12.0       2.0       1.0      66.0       NaN       3.0   \n",
       " 2  130380.0      12.0       2.0       2.0      44.0       NaN       2.0   \n",
       " 3  130381.0      12.0       2.0       2.0       5.0       NaN       5.0   \n",
       " 4  130382.0      12.0       2.0       1.0       2.0       NaN       3.0   \n",
       " \n",
       "    RIDRETH3  RIDEXMON  RIDEXAGM  ...  DMDHRGND  DMDHRAGZ  DMDHREDZ  DMDHRMAZ  \\\n",
       " 0       6.0       2.0       NaN  ...       NaN       NaN       NaN       NaN   \n",
       " 1       3.0       2.0       NaN  ...       NaN       NaN       NaN       NaN   \n",
       " 2       2.0       1.0       NaN  ...       NaN       NaN       NaN       NaN   \n",
       " 3       7.0       1.0      71.0  ...       2.0       2.0       2.0       3.0   \n",
       " 4       3.0       2.0      34.0  ...       2.0       2.0       3.0       1.0   \n",
       " \n",
       "    DMDHSEDZ      WTINT2YR      WTMEC2YR  SDMVSTRA  SDMVPSU  INDFMPIR  \n",
       " 0       NaN  50055.450807  54374.463898     173.0      2.0      5.00  \n",
       " 1       NaN  29087.450605  34084.721548     173.0      2.0      5.00  \n",
       " 2       NaN  80062.674301  81196.277992     174.0      1.0      1.41  \n",
       " 3       NaN  38807.268902  55698.607106     182.0      2.0      1.53  \n",
       " 4       2.0  30607.519774  36434.146346     182.0      2.0      3.60  \n",
       " \n",
       " [5 rows x 27 columns])"
      ]
     },
     "execution_count": 24,
     "metadata": {},
     "output_type": "execute_result"
    }
   ],
   "source": [
    "import pandas as pd\n",
    "import numpy as np\n",
    "\n",
    "# Load the NHANES demo dataset from XPT (SAS transport format)\n",
    "file_path = \"DEMO_L.xpt\"\n",
    "df = pd.read_sas(file_path, format='xport')\n",
    "\n",
    "# Show basic information and save to CSV for further use\n",
    "df.info(), df.head()\n"
   ]
  },
  {
   "cell_type": "code",
   "execution_count": 22,
   "id": "1b398d06",
   "metadata": {},
   "outputs": [],
   "source": [
    "# Save the dataset as CSV for further processing and public reference\n",
    "csv_path = \"DEMO_L.csv\"\n",
    "df.to_csv(csv_path, index=False)"
   ]
  },
  {
   "cell_type": "markdown",
   "id": "6c97eb9f",
   "metadata": {},
   "source": [
    "### Load and Explore the Data\n",
    "\n",
    "We extracted two sensitive features from the NHANES dataset as an example:\n",
    "- RIDAGEYR: Respondent's age in years\n",
    "- INDFMPIR: Ratio of family income to poverty threshold"
   ]
  },
  {
   "cell_type": "code",
   "execution_count": 25,
   "id": "811ec549",
   "metadata": {},
   "outputs": [
    {
     "data": {
      "text/html": [
       "<div>\n",
       "<style scoped>\n",
       "    .dataframe tbody tr th:only-of-type {\n",
       "        vertical-align: middle;\n",
       "    }\n",
       "\n",
       "    .dataframe tbody tr th {\n",
       "        vertical-align: top;\n",
       "    }\n",
       "\n",
       "    .dataframe thead th {\n",
       "        text-align: right;\n",
       "    }\n",
       "</style>\n",
       "<table border=\"1\" class=\"dataframe\">\n",
       "  <thead>\n",
       "    <tr style=\"text-align: right;\">\n",
       "      <th></th>\n",
       "      <th>RIDAGEYR</th>\n",
       "      <th>INDFMPIR</th>\n",
       "    </tr>\n",
       "  </thead>\n",
       "  <tbody>\n",
       "    <tr>\n",
       "      <th>count</th>\n",
       "      <td>9.892000e+03</td>\n",
       "      <td>9.892000e+03</td>\n",
       "    </tr>\n",
       "    <tr>\n",
       "      <th>mean</th>\n",
       "      <td>3.833937e+01</td>\n",
       "      <td>2.708174e+00</td>\n",
       "    </tr>\n",
       "    <tr>\n",
       "      <th>std</th>\n",
       "      <td>2.544978e+01</td>\n",
       "      <td>1.670119e+00</td>\n",
       "    </tr>\n",
       "    <tr>\n",
       "      <th>min</th>\n",
       "      <td>5.397605e-79</td>\n",
       "      <td>5.397605e-79</td>\n",
       "    </tr>\n",
       "    <tr>\n",
       "      <th>25%</th>\n",
       "      <td>1.400000e+01</td>\n",
       "      <td>1.180000e+00</td>\n",
       "    </tr>\n",
       "    <tr>\n",
       "      <th>50%</th>\n",
       "      <td>3.750000e+01</td>\n",
       "      <td>2.500000e+00</td>\n",
       "    </tr>\n",
       "    <tr>\n",
       "      <th>75%</th>\n",
       "      <td>6.200000e+01</td>\n",
       "      <td>4.500000e+00</td>\n",
       "    </tr>\n",
       "    <tr>\n",
       "      <th>max</th>\n",
       "      <td>8.000000e+01</td>\n",
       "      <td>5.000000e+00</td>\n",
       "    </tr>\n",
       "  </tbody>\n",
       "</table>\n",
       "</div>"
      ],
      "text/plain": [
       "           RIDAGEYR      INDFMPIR\n",
       "count  9.892000e+03  9.892000e+03\n",
       "mean   3.833937e+01  2.708174e+00\n",
       "std    2.544978e+01  1.670119e+00\n",
       "min    5.397605e-79  5.397605e-79\n",
       "25%    1.400000e+01  1.180000e+00\n",
       "50%    3.750000e+01  2.500000e+00\n",
       "75%    6.200000e+01  4.500000e+00\n",
       "max    8.000000e+01  5.000000e+00"
      ]
     },
     "execution_count": 25,
     "metadata": {},
     "output_type": "execute_result"
    }
   ],
   "source": [
    "# Select only the columns of interest and drop missing values\n",
    "df_filtered = df[['RIDAGEYR', 'INDFMPIR']].dropna()\n",
    "df_filtered.describe()"
   ]
  },
  {
   "cell_type": "markdown",
   "id": "ee58905d",
   "metadata": {},
   "source": [
    "## DP a simple example Using Laplace Mechanism"
   ]
  },
  {
   "cell_type": "code",
   "execution_count": 26,
   "id": "d9c6339e",
   "metadata": {},
   "outputs": [
    {
     "data": {
      "text/html": [
       "<div>\n",
       "<style scoped>\n",
       "    .dataframe tbody tr th:only-of-type {\n",
       "        vertical-align: middle;\n",
       "    }\n",
       "\n",
       "    .dataframe tbody tr th {\n",
       "        vertical-align: top;\n",
       "    }\n",
       "\n",
       "    .dataframe thead th {\n",
       "        text-align: right;\n",
       "    }\n",
       "</style>\n",
       "<table border=\"1\" class=\"dataframe\">\n",
       "  <thead>\n",
       "    <tr style=\"text-align: right;\">\n",
       "      <th></th>\n",
       "      <th>Epsilon</th>\n",
       "      <th>DP Mean Age</th>\n",
       "      <th>DP Mean Income Ratio</th>\n",
       "    </tr>\n",
       "  </thead>\n",
       "  <tbody>\n",
       "    <tr>\n",
       "      <th>0</th>\n",
       "      <td>0.1</td>\n",
       "      <td>38.242692</td>\n",
       "      <td>2.712323</td>\n",
       "    </tr>\n",
       "    <tr>\n",
       "      <th>1</th>\n",
       "      <td>0.5</td>\n",
       "      <td>38.330941</td>\n",
       "      <td>2.708479</td>\n",
       "    </tr>\n",
       "    <tr>\n",
       "      <th>2</th>\n",
       "      <td>1.0</td>\n",
       "      <td>38.353694</td>\n",
       "      <td>2.707413</td>\n",
       "    </tr>\n",
       "    <tr>\n",
       "      <th>3</th>\n",
       "      <td>5.0</td>\n",
       "      <td>38.339433</td>\n",
       "      <td>2.708182</td>\n",
       "    </tr>\n",
       "  </tbody>\n",
       "</table>\n",
       "</div>"
      ],
      "text/plain": [
       "   Epsilon  DP Mean Age  DP Mean Income Ratio\n",
       "0      0.1    38.242692              2.712323\n",
       "1      0.5    38.330941              2.708479\n",
       "2      1.0    38.353694              2.707413\n",
       "3      5.0    38.339433              2.708182"
      ]
     },
     "execution_count": 26,
     "metadata": {},
     "output_type": "execute_result"
    }
   ],
   "source": [
    "# Define Laplace mechanism function\n",
    "def laplace_mechanism(value, sensitivity, epsilon):\n",
    "    \"\"\"Applies Laplace noise to a statistic.\"\"\"\n",
    "    noise = np.random.laplace(loc=0, scale=sensitivity / epsilon)\n",
    "    return value + noise\n",
    "\n",
    "# Calculate true means\n",
    "true_mean_age = df_filtered['RIDAGEYR'].mean()\n",
    "true_mean_income = df_filtered['INDFMPIR'].mean()\n",
    "\n",
    "# Define sensitivity (range divided by n)\n",
    "age_range = df_filtered['RIDAGEYR'].max() - df_filtered['RIDAGEYR'].min()\n",
    "income_range = df_filtered['INDFMPIR'].max() - df_filtered['INDFMPIR'].min()\n",
    "n = len(df_filtered)\n",
    "\n",
    "sensitivity_age = age_range / n\n",
    "sensitivity_income = income_range / n\n",
    "\n",
    "# Try different epsilons\n",
    "epsilons = [0.1, 0.5, 1.0, 5.0]\n",
    "dp_results = []\n",
    "\n",
    "for eps in epsilons:\n",
    "    dp_mean_age = laplace_mechanism(true_mean_age, sensitivity_age, eps)\n",
    "    dp_mean_income = laplace_mechanism(true_mean_income, sensitivity_income, eps)\n",
    "    dp_results.append((eps, dp_mean_age, dp_mean_income))\n",
    "\n",
    "dp_df = pd.DataFrame(dp_results, columns=['Epsilon', 'DP Mean Age', 'DP Mean Income Ratio'])\n",
    "dp_df"
   ]
  },
  {
   "cell_type": "markdown",
   "id": "09f0766b",
   "metadata": {},
   "source": [
    "Here are the Differentially Private Mean Estimates of age and income ratio using the Laplace mechanism with different ε (privacy budget) values.\n",
    "- Smaller ε = Stronger privacy, more noise.\n",
    "- Larger ε = Weaker privacy, less noise."
   ]
  },
  {
   "cell_type": "code",
   "execution_count": 27,
   "id": "c57da4fc",
   "metadata": {},
   "outputs": [
    {
     "data": {
      "image/png": "[encoded data removed]",
      "text/plain": [
       "<Figure size 1200x600 with 1 Axes>"
      ]
     },
     "metadata": {},
     "output_type": "display_data"
    }
   ],
   "source": [
    "import matplotlib.pyplot as plt\n",
    "\n",
    "# Plot histogram of true values vs. DP histograms\n",
    "def plot_dp_histograms(data, column, epsilon_values, bins=20):\n",
    "    true_hist, bin_edges = np.histogram(data[column], bins=bins, range=(data[column].min(), data[column].max()))\n",
    "    bin_width = bin_edges[1] - bin_edges[0]\n",
    "    sensitivity = 1.0  # 1 count per bin\n",
    "\n",
    "    plt.figure(figsize=(12, 6))\n",
    "    plt.bar(bin_edges[:-1], true_hist, width=bin_width, alpha=0.6, label='True Histogram')\n",
    "\n",
    "    for eps in epsilon_values:\n",
    "        noisy_hist = [laplace_mechanism(count, sensitivity, eps) for count in true_hist]\n",
    "        plt.bar(bin_edges[:-1], noisy_hist, width=bin_width, alpha=0.3, label=f'ε={eps}')\n",
    "\n",
    "    plt.title(f'DP Histogram of {column}')\n",
    "    plt.xlabel(column)\n",
    "    plt.ylabel('Count')\n",
    "    plt.legend()\n",
    "    plt.grid(True)\n",
    "    plt.tight_layout()\n",
    "    plt.show()\n",
    "\n",
    "# Apply to age\n",
    "plot_dp_histograms(df_filtered, 'RIDAGEYR', epsilon_values=[0.1, 0.5, 1.0, 5.0])\n"
   ]
  },
  {
   "cell_type": "markdown",
   "id": "ab295f72",
   "metadata": {},
   "source": [
    "This plot shows a differentially private histogram of age (RIDAGEYR) using the Laplace mechanism at various ε levels:\n",
    "- The blue bars show the true counts.\n",
    "- The lighter bars show noisy counts at different ε values (0.1, 0.5, 1.0, 5.0).\n",
    "Note that:\n",
    "- At ε = 0.1, privacy is strong, but noise is high — patterns are distorted.\n",
    "- At ε = 5.0, privacy is weaker, but the histogram closely resembles the original.\n"
   ]
  },
  {
   "cell_type": "markdown",
   "id": "90418922",
   "metadata": {},
   "source": [
    "## Using diffprivlib for Differential Privacy in Healthcare Data\n",
    "diffprivlib is a Python library developed by IBM that provides out-of-the-box differential privacy mechanisms. It supports scikit-learn-style models and statistical functions, making it easy to integrate into existing Python data analysis workflows."
   ]
  },
  {
   "cell_type": "markdown",
   "id": "7871694d",
   "metadata": {},
   "source": [
    "### Example Private Mean of Age and Income with diffprivlib\n",
    "Make sure to install diffprivlib using:\n",
    "\n",
    "\"pip install diffprivlib\""
   ]
  },
  {
   "cell_type": "code",
   "execution_count": 28,
   "id": "f245d850",
   "metadata": {},
   "outputs": [
    {
     "data": {
      "text/html": [
       "<div>\n",
       "<style scoped>\n",
       "    .dataframe tbody tr th:only-of-type {\n",
       "        vertical-align: middle;\n",
       "    }\n",
       "\n",
       "    .dataframe tbody tr th {\n",
       "        vertical-align: top;\n",
       "    }\n",
       "\n",
       "    .dataframe thead th {\n",
       "        text-align: right;\n",
       "    }\n",
       "</style>\n",
       "<table border=\"1\" class=\"dataframe\">\n",
       "  <thead>\n",
       "    <tr style=\"text-align: right;\">\n",
       "      <th></th>\n",
       "      <th>Epsilon</th>\n",
       "      <th>DP Mean Age (diffprivlib)</th>\n",
       "      <th>DP Mean Income (diffprivlib)</th>\n",
       "    </tr>\n",
       "  </thead>\n",
       "  <tbody>\n",
       "    <tr>\n",
       "      <th>0</th>\n",
       "      <td>0.1</td>\n",
       "      <td>38.632180</td>\n",
       "      <td>2.694409</td>\n",
       "    </tr>\n",
       "    <tr>\n",
       "      <th>1</th>\n",
       "      <td>0.5</td>\n",
       "      <td>38.324056</td>\n",
       "      <td>2.709143</td>\n",
       "    </tr>\n",
       "    <tr>\n",
       "      <th>2</th>\n",
       "      <td>1.0</td>\n",
       "      <td>38.347700</td>\n",
       "      <td>2.707702</td>\n",
       "    </tr>\n",
       "    <tr>\n",
       "      <th>3</th>\n",
       "      <td>5.0</td>\n",
       "      <td>38.334561</td>\n",
       "      <td>2.708010</td>\n",
       "    </tr>\n",
       "  </tbody>\n",
       "</table>\n",
       "</div>"
      ],
      "text/plain": [
       "   Epsilon  DP Mean Age (diffprivlib)  DP Mean Income (diffprivlib)\n",
       "0      0.1                  38.632180                      2.694409\n",
       "1      0.5                  38.324056                      2.709143\n",
       "2      1.0                  38.347700                      2.707702\n",
       "3      5.0                  38.334561                      2.708010"
      ]
     },
     "execution_count": 28,
     "metadata": {},
     "output_type": "execute_result"
    }
   ],
   "source": [
    "from diffprivlib.tools import mean as dp_mean\n",
    "\n",
    "# Prepare clipped data\n",
    "age_data = df_filtered['RIDAGEYR'].clip(lower=0, upper=80).to_numpy()\n",
    "income_data = df_filtered['INDFMPIR'].clip(lower=0, upper=5).to_numpy()\n",
    "\n",
    "# Evaluate DP means using diffprivlib for multiple epsilon values\n",
    "dp_lib_results = []\n",
    "epsilons = [0.1, 0.5, 1.0, 5.0]\n",
    "\n",
    "for eps in epsilons:\n",
    "    dp_age = dp_mean(age_data, epsilon=eps, bounds=(0, 80))\n",
    "    dp_income = dp_mean(income_data, epsilon=eps, bounds=(0, 5))\n",
    "    dp_lib_results.append((eps, dp_age, dp_income))\n",
    "\n",
    "dp_lib_df = pd.DataFrame(dp_lib_results, columns=['Epsilon', 'DP Mean Age (diffprivlib)', 'DP Mean Income (diffprivlib)'])\n",
    "dp_lib_df"
   ]
  },
  {
   "cell_type": "markdown",
   "id": "ea6e3aef",
   "metadata": {},
   "source": [
    "### Differentially Private Median (Quantile Analysis)"
   ]
  },
  {
   "cell_type": "markdown",
   "id": "eb069ca2",
   "metadata": {},
   "source": [
    "### Example Histogram on the gender variable (RIAGENDR) "
   ]
  },
  {
   "cell_type": "code",
   "execution_count": 29,
   "id": "b474dbaf",
   "metadata": {},
   "outputs": [],
   "source": [
    "# Extract the 'RIAGENDR' column (1 = Male, 2 = Female)\n",
    "gender_data = df['RIAGENDR'].dropna().astype(int).to_numpy()\n",
    "\n",
    "# Define epsilon values for differential privacy\n",
    "epsilons = [0.1, 0.5, 1.0, 5.0]\n",
    "\n",
    "# Store results for each epsilon\n",
    "dp_histograms = []\n",
    "\n",
    "for eps in epsilons:\n",
    "    # Compute differentially private histogram\n",
    "    hist, bin_edges = histogram(gender_data, epsilon=eps, range=(1, 3), bins=2)\n",
    "    dp_histograms.append((eps, hist))\n"
   ]
  },
  {
   "cell_type": "code",
   "execution_count": 30,
   "id": "1140164c",
   "metadata": {},
   "outputs": [
    {
     "data": {
      "image/png": "[encoded data removed]",
      "text/plain": [
       "<Figure size 1000x600 with 1 Axes>"
      ]
     },
     "metadata": {},
     "output_type": "display_data"
    }
   ],
   "source": [
    "# Labels for genders\n",
    "labels = ['Male', 'Female']\n",
    "\n",
    "# Plotting\n",
    "fig, ax = plt.subplots(figsize=(10, 6))\n",
    "\n",
    "# Width of each bar\n",
    "bar_width = 0.15\n",
    "\n",
    "# Positions of bars on x-axis\n",
    "r = np.arange(len(labels))\n",
    "\n",
    "for i, (eps, hist) in enumerate(dp_histograms):\n",
    "    # Position of bars for this epsilon\n",
    "    positions = r + i * bar_width\n",
    "    ax.bar(positions, hist, width=bar_width, label=f'ε = {eps}')\n",
    "\n",
    "# Labels and title\n",
    "ax.set_xlabel('Gender')\n",
    "ax.set_ylabel('Differentially Private Count')\n",
    "ax.set_title('Differentially Private Gender Distribution')\n",
    "ax.set_xticks(r + bar_width * (len(epsilons) - 1) / 2)\n",
    "ax.set_xticklabels(labels)\n",
    "ax.legend()\n",
    "\n",
    "plt.tight_layout()\n",
    "plt.show()\n"
   ]
  },
  {
   "cell_type": "code",
   "execution_count": null,
   "id": "b004d17f",
   "metadata": {},
   "outputs": [],
   "source": []
  }
 ],
 "metadata": {
  "kernelspec": {
   "display_name": "base",
   "language": "python",
   "name": "python3"
  },
  "language_info": {
   "codemirror_mode": {
    "name": "ipython",
    "version": 3
   },
   "file_extension": ".py",
   "mimetype": "text/x-python",
   "name": "python",
   "nbconvert_exporter": "python",
   "pygments_lexer": "ipython3",
   "version": "3.12.7"
  }
 },
 "nbformat": 4,
 "nbformat_minor": 5
}
